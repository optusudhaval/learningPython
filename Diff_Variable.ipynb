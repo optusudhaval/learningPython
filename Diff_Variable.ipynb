{
  "nbformat": 4,
  "nbformat_minor": 0,
  "metadata": {
    "colab": {
      "name": "Diff_Variable.ipynb",
      "provenance": [],
      "authorship_tag": "ABX9TyO3hBLTHlHBM9PZk2RGBsAl",
      "include_colab_link": true
    },
    "kernelspec": {
      "name": "python3",
      "display_name": "Python 3"
    },
    "language_info": {
      "name": "python"
    }
  },
  "cells": [
    {
      "cell_type": "markdown",
      "metadata": {
        "id": "view-in-github",
        "colab_type": "text"
      },
      "source": [
        "<a href=\"https://colab.research.google.com/github/optusudhaval/learningPython/blob/main/Diff_Variable.ipynb\" target=\"_parent\"><img src=\"https://colab.research.google.com/assets/colab-badge.svg\" alt=\"Open In Colab\"/></a>"
      ]
    },
    {
      "cell_type": "code",
      "execution_count": null,
      "metadata": {
        "id": "2p3uDvRFT6z0"
      },
      "outputs": [],
      "source": [
        "x = True\n",
        "y = False"
      ]
    },
    {
      "cell_type": "code",
      "source": [
        "print ('x and y is:', x and y)"
      ],
      "metadata": {
        "colab": {
          "base_uri": "https://localhost:8080/"
        },
        "id": "oqLjQdS3UA8g",
        "outputId": "5d5e32e4-72d3-4420-d999-a7a12d40dd0a"
      },
      "execution_count": null,
      "outputs": [
        {
          "output_type": "stream",
          "name": "stdout",
          "text": [
            "x and y is: False\n"
          ]
        }
      ]
    },
    {
      "cell_type": "code",
      "source": [
        "print ('x or y is:', x or y)"
      ],
      "metadata": {
        "colab": {
          "base_uri": "https://localhost:8080/"
        },
        "id": "yI5Z2Nb1UA_R",
        "outputId": "08f56097-e96f-414b-ef7e-d967a57b5d80"
      },
      "execution_count": null,
      "outputs": [
        {
          "output_type": "stream",
          "name": "stdout",
          "text": [
            "x and y is: True\n"
          ]
        }
      ]
    },
    {
      "cell_type": "code",
      "source": [
        "print ('not x is:', not x)"
      ],
      "metadata": {
        "colab": {
          "base_uri": "https://localhost:8080/"
        },
        "id": "bq5qhsyyUBCs",
        "outputId": "5d95afab-d6c2-4703-fd81-f343f3d900a5"
      },
      "execution_count": null,
      "outputs": [
        {
          "output_type": "stream",
          "name": "stdout",
          "text": [
            "not x is: False\n"
          ]
        }
      ]
    },
    {
      "cell_type": "code",
      "source": [
        "print ('not y is:', not y)"
      ],
      "metadata": {
        "colab": {
          "base_uri": "https://localhost:8080/"
        },
        "id": "Ri88CviyUBEy",
        "outputId": "909ba548-b618-47a2-cbb5-e86a10c4ba91"
      },
      "execution_count": null,
      "outputs": [
        {
          "output_type": "stream",
          "name": "stdout",
          "text": [
            "not y is: True\n"
          ]
        }
      ]
    },
    {
      "cell_type": "code",
      "source": [
        "x = 'awesome'\n",
        "x"
      ],
      "metadata": {
        "colab": {
          "base_uri": "https://localhost:8080/",
          "height": 35
        },
        "id": "7PGQjAnQUBHe",
        "outputId": "75ec1f23-45c7-4db3-df9e-27d612b4d603"
      },
      "execution_count": null,
      "outputs": [
        {
          "output_type": "execute_result",
          "data": {
            "text/plain": [
              "'awesome'"
            ],
            "application/vnd.google.colaboratory.intrinsic+json": {
              "type": "string"
            }
          },
          "metadata": {},
          "execution_count": 6
        }
      ]
    },
    {
      "cell_type": "code",
      "source": [
        "print('Python is ' + x)"
      ],
      "metadata": {
        "colab": {
          "base_uri": "https://localhost:8080/"
        },
        "id": "b7nAeVM8UBJ2",
        "outputId": "d01d07c5-d23e-4e15-9813-03d634484632"
      },
      "execution_count": null,
      "outputs": [
        {
          "output_type": "stream",
          "name": "stdout",
          "text": [
            "Python is awesome\n"
          ]
        }
      ]
    },
    {
      "cell_type": "code",
      "source": [
        "x = \"python is \"\n",
        "y = \"awesome \"\n",
        "z = x + y\n",
        "print (z)"
      ],
      "metadata": {
        "colab": {
          "base_uri": "https://localhost:8080/"
        },
        "id": "8T4SK4XWUBPK",
        "outputId": "a9cfef4d-160d-4b30-d68f-bb440d9feea9"
      },
      "execution_count": null,
      "outputs": [
        {
          "output_type": "stream",
          "name": "stdout",
          "text": [
            "python is awesome \n"
          ]
        }
      ]
    },
    {
      "cell_type": "code",
      "source": [
        "a = z * 4\n",
        "print (a)"
      ],
      "metadata": {
        "colab": {
          "base_uri": "https://localhost:8080/"
        },
        "id": "UqNXogA7Unbn",
        "outputId": "7a673b6c-2751-4ea5-b77a-1d5ef58339ca"
      },
      "execution_count": null,
      "outputs": [
        {
          "output_type": "stream",
          "name": "stdout",
          "text": [
            "python is awesome python is awesome python is awesome python is awesome \n"
          ]
        }
      ]
    },
    {
      "cell_type": "code",
      "source": [
        "len(x)"
      ],
      "metadata": {
        "colab": {
          "base_uri": "https://localhost:8080/"
        },
        "id": "wwNIJtlCUneQ",
        "outputId": "36156d4c-019b-4a32-f51b-0f936737e6a3"
      },
      "execution_count": null,
      "outputs": [
        {
          "output_type": "execute_result",
          "data": {
            "text/plain": [
              "10"
            ]
          },
          "metadata": {},
          "execution_count": 11
        }
      ]
    },
    {
      "cell_type": "code",
      "source": [
        "len(z)"
      ],
      "metadata": {
        "colab": {
          "base_uri": "https://localhost:8080/"
        },
        "id": "EJTuyyUBUng3",
        "outputId": "d1883e45-db99-4462-b8f9-f8257292b4a4"
      },
      "execution_count": null,
      "outputs": [
        {
          "output_type": "execute_result",
          "data": {
            "text/plain": [
              "18"
            ]
          },
          "metadata": {},
          "execution_count": 14
        }
      ]
    },
    {
      "cell_type": "code",
      "source": [
        "x = y = z = \"Python\"\n",
        "print (x)\n",
        "print (y)\n",
        "print (z)"
      ],
      "metadata": {
        "colab": {
          "base_uri": "https://localhost:8080/"
        },
        "id": "WKz2tELLUnjq",
        "outputId": "4a43e189-74a7-4cda-ebfe-11c372686976"
      },
      "execution_count": null,
      "outputs": [
        {
          "output_type": "stream",
          "name": "stdout",
          "text": [
            "Python\n",
            "Python\n",
            "Python\n"
          ]
        }
      ]
    },
    {
      "cell_type": "code",
      "source": [
        "b = x + y\n",
        "b"
      ],
      "metadata": {
        "colab": {
          "base_uri": "https://localhost:8080/",
          "height": 35
        },
        "id": "eydzwgvbUnmL",
        "outputId": "ec704d12-4edd-4939-e949-c30ef63ebae0"
      },
      "execution_count": null,
      "outputs": [
        {
          "output_type": "execute_result",
          "data": {
            "text/plain": [
              "'PythonPython'"
            ],
            "application/vnd.google.colaboratory.intrinsic+json": {
              "type": "string"
            }
          },
          "metadata": {},
          "execution_count": 17
        }
      ]
    },
    {
      "cell_type": "code",
      "source": [
        "x == y"
      ],
      "metadata": {
        "colab": {
          "base_uri": "https://localhost:8080/"
        },
        "id": "iX9RXgImUnox",
        "outputId": "23d1d660-cc3f-4375-da45-1da64cf7ffc5"
      },
      "execution_count": null,
      "outputs": [
        {
          "output_type": "execute_result",
          "data": {
            "text/plain": [
              "True"
            ]
          },
          "metadata": {},
          "execution_count": 18
        }
      ]
    },
    {
      "cell_type": "code",
      "source": [
        "x = y == z\n",
        "print (x)"
      ],
      "metadata": {
        "colab": {
          "base_uri": "https://localhost:8080/"
        },
        "id": "oI9CJTo_UnsN",
        "outputId": "cf58f087-1e25-44ad-f6e0-4b0effc3a1a9"
      },
      "execution_count": null,
      "outputs": [
        {
          "output_type": "stream",
          "name": "stdout",
          "text": [
            "True\n"
          ]
        }
      ]
    },
    {
      "cell_type": "code",
      "source": [
        "a, b, c = 5, 3.2, \"Hello\"\n",
        "print (a)\n",
        "print (b)\n",
        "print (c)"
      ],
      "metadata": {
        "colab": {
          "base_uri": "https://localhost:8080/"
        },
        "id": "iz9qXoWpUnu3",
        "outputId": "37e2c970-7309-471d-ff75-21d2a2ace1a7"
      },
      "execution_count": null,
      "outputs": [
        {
          "output_type": "stream",
          "name": "stdout",
          "text": [
            "5\n",
            "3.2\n",
            "Hello\n"
          ]
        }
      ]
    },
    {
      "cell_type": "code",
      "source": [
        "color_a = \"Red\"\n",
        "color_b = \"Blue\""
      ],
      "metadata": {
        "id": "vEThQGGIVU9O"
      },
      "execution_count": null,
      "outputs": []
    },
    {
      "cell_type": "code",
      "source": [
        "color_c = color_a\n",
        "print (color_a, color_b, color_c)"
      ],
      "metadata": {
        "colab": {
          "base_uri": "https://localhost:8080/"
        },
        "id": "cKAQLQb7VVAo",
        "outputId": "2d78f5ae-ffe2-4dd9-e8f8-0f377be4d1ba"
      },
      "execution_count": null,
      "outputs": [
        {
          "output_type": "stream",
          "name": "stdout",
          "text": [
            "Red Blue Red\n"
          ]
        }
      ]
    },
    {
      "cell_type": "code",
      "source": [
        "color_a = color_b\n",
        "print (color_a, color_b, color_c)"
      ],
      "metadata": {
        "colab": {
          "base_uri": "https://localhost:8080/"
        },
        "id": "Drhub4djVVII",
        "outputId": "30650a6d-96a7-449d-fd3f-eff42185a450"
      },
      "execution_count": null,
      "outputs": [
        {
          "output_type": "stream",
          "name": "stdout",
          "text": [
            "Blue Blue Red\n"
          ]
        }
      ]
    },
    {
      "cell_type": "code",
      "source": [
        ""
      ],
      "metadata": {
        "id": "9rXv_QLGVVQC"
      },
      "execution_count": null,
      "outputs": []
    },
    {
      "cell_type": "code",
      "source": [
        ""
      ],
      "metadata": {
        "id": "YJF6-VqxUnww"
      },
      "execution_count": null,
      "outputs": []
    },
    {
      "cell_type": "code",
      "source": [
        ""
      ],
      "metadata": {
        "id": "skREfUGUUBRa"
      },
      "execution_count": null,
      "outputs": []
    },
    {
      "cell_type": "code",
      "source": [
        ""
      ],
      "metadata": {
        "id": "-v5CLgkBUBS0"
      },
      "execution_count": null,
      "outputs": []
    }
  ]
}