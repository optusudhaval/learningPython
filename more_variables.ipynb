{
  "nbformat": 4,
  "nbformat_minor": 0,
  "metadata": {
    "colab": {
      "name": "more_variables.ipynb",
      "provenance": [],
      "authorship_tag": "ABX9TyPey5WbfEAC8FMHW/2m7I4U",
      "include_colab_link": true
    },
    "kernelspec": {
      "name": "python3",
      "display_name": "Python 3"
    },
    "language_info": {
      "name": "python"
    }
  },
  "cells": [
    {
      "cell_type": "markdown",
      "metadata": {
        "id": "view-in-github",
        "colab_type": "text"
      },
      "source": [
        "<a href=\"https://colab.research.google.com/github/optusudhaval/learningPython/blob/main/more_variables.ipynb\" target=\"_parent\"><img src=\"https://colab.research.google.com/assets/colab-badge.svg\" alt=\"Open In Colab\"/></a>"
      ]
    },
    {
      "cell_type": "code",
      "execution_count": null,
      "metadata": {
        "id": "14obA0iCV0mJ"
      },
      "outputs": [],
      "source": [
        "n1 = 34\n",
        "n2 = 34.5\n",
        "n3 = 100"
      ]
    },
    {
      "cell_type": "code",
      "source": [
        "s1 = 'Hello'\n",
        "s2 = 'world'"
      ],
      "metadata": {
        "id": "gc-S1SDaV2vw"
      },
      "execution_count": null,
      "outputs": []
    },
    {
      "cell_type": "code",
      "source": [
        "total_n = n1 + n2 + n3\n",
        "total_n"
      ],
      "metadata": {
        "colab": {
          "base_uri": "https://localhost:8080/"
        },
        "id": "ZllXgg_PV2yd",
        "outputId": "d6550273-3db3-45f3-ea3f-cdabf425ea64"
      },
      "execution_count": null,
      "outputs": [
        {
          "output_type": "execute_result",
          "data": {
            "text/plain": [
              "168.5"
            ]
          },
          "metadata": {},
          "execution_count": 3
        }
      ]
    },
    {
      "cell_type": "code",
      "source": [
        "n1 = n1 + 1\n",
        "n1"
      ],
      "metadata": {
        "colab": {
          "base_uri": "https://localhost:8080/"
        },
        "id": "XzYiD6PfV21H",
        "outputId": "13e01ff8-37ae-47c8-9497-e65faf0877d8"
      },
      "execution_count": null,
      "outputs": [
        {
          "output_type": "execute_result",
          "data": {
            "text/plain": [
              "35"
            ]
          },
          "metadata": {},
          "execution_count": 4
        }
      ]
    },
    {
      "cell_type": "code",
      "source": [
        "n2 = n2 + 10\n",
        "n2"
      ],
      "metadata": {
        "colab": {
          "base_uri": "https://localhost:8080/"
        },
        "id": "Bin8CMT7V24l",
        "outputId": "9bd6f664-b5c0-4ead-91fa-96515d3e7218"
      },
      "execution_count": null,
      "outputs": [
        {
          "output_type": "execute_result",
          "data": {
            "text/plain": [
              "44.5"
            ]
          },
          "metadata": {},
          "execution_count": 6
        }
      ]
    },
    {
      "cell_type": "code",
      "source": [
        "n3= n3 -50\n",
        "n3"
      ],
      "metadata": {
        "colab": {
          "base_uri": "https://localhost:8080/"
        },
        "id": "wUImTmCWWHg5",
        "outputId": "f95a180a-cc97-491e-af61-b666b4283126"
      },
      "execution_count": null,
      "outputs": [
        {
          "output_type": "execute_result",
          "data": {
            "text/plain": [
              "50"
            ]
          },
          "metadata": {},
          "execution_count": 7
        }
      ]
    },
    {
      "cell_type": "code",
      "source": [
        "n3 = n3 * 50\n",
        "n3"
      ],
      "metadata": {
        "colab": {
          "base_uri": "https://localhost:8080/"
        },
        "id": "q_qMM6sEWHj1",
        "outputId": "db2c034d-7c63-491f-8166-9026241bc942"
      },
      "execution_count": null,
      "outputs": [
        {
          "output_type": "execute_result",
          "data": {
            "text/plain": [
              "2500"
            ]
          },
          "metadata": {},
          "execution_count": 8
        }
      ]
    },
    {
      "cell_type": "code",
      "source": [
        "n3 = n3 /50\n",
        "n3"
      ],
      "metadata": {
        "colab": {
          "base_uri": "https://localhost:8080/"
        },
        "id": "JUJ3NLgxWHnq",
        "outputId": "80928fa3-70a1-40c0-d883-2187e540d5e5"
      },
      "execution_count": null,
      "outputs": [
        {
          "output_type": "execute_result",
          "data": {
            "text/plain": [
              "50.0"
            ]
          },
          "metadata": {},
          "execution_count": 9
        }
      ]
    },
    {
      "cell_type": "code",
      "source": [
        "n1 += n1 + 1\n",
        "n1"
      ],
      "metadata": {
        "colab": {
          "base_uri": "https://localhost:8080/"
        },
        "id": "Vt1G_7UfWHpm",
        "outputId": "3c323f14-69f0-4a26-fe37-166ccbce6791"
      },
      "execution_count": null,
      "outputs": [
        {
          "output_type": "execute_result",
          "data": {
            "text/plain": [
              "71"
            ]
          },
          "metadata": {},
          "execution_count": 10
        }
      ]
    },
    {
      "cell_type": "code",
      "source": [
        "n2 += 10\n",
        "n2"
      ],
      "metadata": {
        "colab": {
          "base_uri": "https://localhost:8080/"
        },
        "id": "zs800UypWHsm",
        "outputId": "009bae00-869b-4b22-ceaf-483960d0e5c4"
      },
      "execution_count": null,
      "outputs": [
        {
          "output_type": "execute_result",
          "data": {
            "text/plain": [
              "54.5"
            ]
          },
          "metadata": {},
          "execution_count": 11
        }
      ]
    },
    {
      "cell_type": "code",
      "source": [
        "n3 *= 50\n",
        "n3"
      ],
      "metadata": {
        "colab": {
          "base_uri": "https://localhost:8080/"
        },
        "id": "QBWaQKfeWHvH",
        "outputId": "72bf9bb1-3bf1-4f31-8cfd-2f63695a83f7"
      },
      "execution_count": null,
      "outputs": [
        {
          "output_type": "execute_result",
          "data": {
            "text/plain": [
              "2500.0"
            ]
          },
          "metadata": {},
          "execution_count": 12
        }
      ]
    },
    {
      "cell_type": "code",
      "source": [
        "n3 /= 50\n",
        "n3"
      ],
      "metadata": {
        "colab": {
          "base_uri": "https://localhost:8080/"
        },
        "id": "S4ezeDR6W4w6",
        "outputId": "0b7d4a0d-2622-4735-9daf-d2b2e052e75f"
      },
      "execution_count": null,
      "outputs": [
        {
          "output_type": "execute_result",
          "data": {
            "text/plain": [
              "50.0"
            ]
          },
          "metadata": {},
          "execution_count": 13
        }
      ]
    },
    {
      "cell_type": "code",
      "source": [
        "concat_string = s1 + s2\n",
        "concat_string"
      ],
      "metadata": {
        "colab": {
          "base_uri": "https://localhost:8080/",
          "height": 35
        },
        "id": "viGwlVqDW4zs",
        "outputId": "4294d70d-c402-4e91-e11e-c07fd33a844c"
      },
      "execution_count": null,
      "outputs": [
        {
          "output_type": "execute_result",
          "data": {
            "text/plain": [
              "'Helloworld'"
            ],
            "application/vnd.google.colaboratory.intrinsic+json": {
              "type": "string"
            }
          },
          "metadata": {},
          "execution_count": 14
        }
      ]
    },
    {
      "cell_type": "code",
      "source": [
        "s1 = s1 + 'Yoohoo'\n",
        "s1"
      ],
      "metadata": {
        "colab": {
          "base_uri": "https://localhost:8080/",
          "height": 35
        },
        "id": "X1PElCtWW43W",
        "outputId": "bc997e2d-057d-4e4c-9ef1-0c7b5af121f8"
      },
      "execution_count": null,
      "outputs": [
        {
          "output_type": "execute_result",
          "data": {
            "text/plain": [
              "'HelloYoohoo'"
            ],
            "application/vnd.google.colaboratory.intrinsic+json": {
              "type": "string"
            }
          },
          "metadata": {},
          "execution_count": 15
        }
      ]
    },
    {
      "cell_type": "code",
      "source": [
        "new_s1 = s1\n",
        "new_s1"
      ],
      "metadata": {
        "colab": {
          "base_uri": "https://localhost:8080/",
          "height": 35
        },
        "id": "nG4_I0ooV26y",
        "outputId": "86d5b08f-0bc0-46a4-df26-b498b2ba24d6"
      },
      "execution_count": null,
      "outputs": [
        {
          "output_type": "execute_result",
          "data": {
            "text/plain": [
              "'HelloYoohoo'"
            ],
            "application/vnd.google.colaboratory.intrinsic+json": {
              "type": "string"
            }
          },
          "metadata": {},
          "execution_count": 16
        }
      ]
    },
    {
      "cell_type": "code",
      "source": [
        "s1 = 'Some other value'\n",
        "s1"
      ],
      "metadata": {
        "colab": {
          "base_uri": "https://localhost:8080/",
          "height": 35
        },
        "id": "WvntOxnlV29i",
        "outputId": "b8ce77f4-5199-4dbd-a1f1-e5db3fd326f3"
      },
      "execution_count": null,
      "outputs": [
        {
          "output_type": "execute_result",
          "data": {
            "text/plain": [
              "'Some other value'"
            ],
            "application/vnd.google.colaboratory.intrinsic+json": {
              "type": "string"
            }
          },
          "metadata": {},
          "execution_count": 18
        }
      ]
    },
    {
      "cell_type": "code",
      "source": [
        "new_s1"
      ],
      "metadata": {
        "colab": {
          "base_uri": "https://localhost:8080/",
          "height": 35
        },
        "id": "ag0xJCvmV3AD",
        "outputId": "1e772556-824a-4b76-e65e-feb3a000c195"
      },
      "execution_count": null,
      "outputs": [
        {
          "output_type": "execute_result",
          "data": {
            "text/plain": [
              "'HelloYoohoo'"
            ],
            "application/vnd.google.colaboratory.intrinsic+json": {
              "type": "string"
            }
          },
          "metadata": {},
          "execution_count": 19
        }
      ]
    },
    {
      "cell_type": "code",
      "source": [
        "my_var = 'barks'\n",
        "print('A dog ' + my_var + '!')"
      ],
      "metadata": {
        "id": "Z-azVvMXXZIc",
        "colab": {
          "base_uri": "https://localhost:8080/"
        },
        "outputId": "6a61ee30-4c7c-415a-dfc5-971924bfc0d1"
      },
      "execution_count": 1,
      "outputs": [
        {
          "output_type": "stream",
          "name": "stdout",
          "text": [
            "A dog barks!\n"
          ]
        }
      ]
    },
    {
      "cell_type": "code",
      "source": [
        "print (f'A dog {my_var}!')"
      ],
      "metadata": {
        "id": "xeIn7St3XZLM",
        "colab": {
          "base_uri": "https://localhost:8080/"
        },
        "outputId": "27653377-1d61-4f62-87d4-f8111dd8297b"
      },
      "execution_count": 2,
      "outputs": [
        {
          "output_type": "stream",
          "name": "stdout",
          "text": [
            "A dog barks!\n"
          ]
        }
      ]
    },
    {
      "cell_type": "code",
      "source": [
        "print ('A dog {my_var}!')"
      ],
      "metadata": {
        "id": "pgpMn_J-XZQ2",
        "colab": {
          "base_uri": "https://localhost:8080/"
        },
        "outputId": "ffb00df6-b6bc-4b70-9c49-e694b3638e4b"
      },
      "execution_count": 3,
      "outputs": [
        {
          "output_type": "stream",
          "name": "stdout",
          "text": [
            "A dog {my_var}!\n"
          ]
        }
      ]
    },
    {
      "cell_type": "code",
      "source": [
        "print (f'''A dog {my_var}!''')"
      ],
      "metadata": {
        "id": "Mf4PRnV5XZTI",
        "colab": {
          "base_uri": "https://localhost:8080/"
        },
        "outputId": "7c2ed185-8750-4afa-a24a-0eb8883a6083"
      },
      "execution_count": 4,
      "outputs": [
        {
          "output_type": "stream",
          "name": "stdout",
          "text": [
            "A dog barks!\n"
          ]
        }
      ]
    },
    {
      "cell_type": "code",
      "source": [
        "print ('A dog {}!'.format(my_var))"
      ],
      "metadata": {
        "id": "oLwGK_8bXZU0",
        "colab": {
          "base_uri": "https://localhost:8080/"
        },
        "outputId": "bc8c4a02-8262-4e12-e56d-2512ccf29707"
      },
      "execution_count": 7,
      "outputs": [
        {
          "output_type": "stream",
          "name": "stdout",
          "text": [
            "A dog barks!\n"
          ]
        }
      ]
    },
    {
      "cell_type": "code",
      "source": [
        "print (\"John asked \\t'How are you?'\")"
      ],
      "metadata": {
        "id": "0v1zOzrxV3Cp",
        "colab": {
          "base_uri": "https://localhost:8080/"
        },
        "outputId": "58f90176-1bd6-4720-d14b-8ceccaddf846"
      },
      "execution_count": 8,
      "outputs": [
        {
          "output_type": "stream",
          "name": "stdout",
          "text": [
            "John asked \t'How are you?'\n"
          ]
        }
      ]
    },
    {
      "cell_type": "code",
      "source": [
        "print ('C:\\\\Users\\\\Q')"
      ],
      "metadata": {
        "colab": {
          "base_uri": "https://localhost:8080/"
        },
        "id": "eRaxIoQlPxx8",
        "outputId": "7b21394c-049a-49d1-fe5e-652ed377e51c"
      },
      "execution_count": 9,
      "outputs": [
        {
          "output_type": "stream",
          "name": "stdout",
          "text": [
            "C:\\Users\\Q\n"
          ]
        }
      ]
    },
    {
      "cell_type": "code",
      "source": [
        ""
      ],
      "metadata": {
        "id": "F4a0MBkdPx0t"
      },
      "execution_count": null,
      "outputs": []
    },
    {
      "cell_type": "code",
      "source": [
        ""
      ],
      "metadata": {
        "id": "u0wA4ib7Px32"
      },
      "execution_count": null,
      "outputs": []
    },
    {
      "cell_type": "code",
      "source": [
        ""
      ],
      "metadata": {
        "id": "QPO-Yc9fPx6i"
      },
      "execution_count": null,
      "outputs": []
    },
    {
      "cell_type": "code",
      "source": [
        ""
      ],
      "metadata": {
        "id": "LWItX3f_Px9D"
      },
      "execution_count": null,
      "outputs": []
    },
    {
      "cell_type": "code",
      "source": [
        ""
      ],
      "metadata": {
        "id": "Z2yfgQFbPx_J"
      },
      "execution_count": null,
      "outputs": []
    }
  ]
}